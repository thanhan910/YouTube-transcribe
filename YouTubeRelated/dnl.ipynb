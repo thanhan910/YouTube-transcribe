{
 "cells": [
  {
   "cell_type": "code",
   "execution_count": 1,
   "metadata": {},
   "outputs": [
    {
     "name": "stderr",
     "output_type": "stream",
     "text": [
      "[nltk_data] Downloading package punkt to\n",
      "[nltk_data]     C:\\Users\\An\\AppData\\Roaming\\nltk_data...\n",
      "[nltk_data]   Package punkt is already up-to-date!\n"
     ]
    }
   ],
   "source": [
    "import os\n",
    "import speech_recognition as sr\n",
    "import nltk\n",
    "from nltk.tokenize import sent_tokenize\n",
    "nltk.download('punkt')\n",
    "RECOGNIZER = sr.Recognizer()\n",
    "\n",
    "def recognize_speech_from_audio(audio_file):\n",
    "\n",
    "    with sr.AudioFile(audio_file) as source:\n",
    "        audio_data = RECOGNIZER.record(source)\n",
    "\n",
    "    transcript = RECOGNIZER.recognize_sphinx(audio_data)\n",
    "\n",
    "    sentences = sent_tokenize(transcript)\n",
    "\n",
    "    with open(f\"{audio_file}.txt\", \"w\") as file:\n",
    "        for sentence in sentences:\n",
    "            file.write(sentence + \"\\n\")\n"
   ]
  },
  {
   "cell_type": "code",
   "execution_count": 2,
   "metadata": {},
   "outputs": [],
   "source": [
    "\n",
    "audio_folder = \"transcripts/audios\"\n",
    "for dirpath, dirname, filenames in os.walk(audio_folder):\n",
    "        for filename in filenames:\n",
    "            if filename.endswith(\".wav\"):\n",
    "                recognize_speech_from_audio(os.path.join(dirpath, filename)) "
   ]
  },
  {
   "cell_type": "code",
   "execution_count": 2,
   "metadata": {},
   "outputs": [
    {
     "ename": "OSError",
     "evalue": "[Errno 22] Invalid argument: \"transcripts\\x07udios\\\\c1l75QqRR48 - The Bike Lanes You Can't See - Ontvlechten.wav\"",
     "output_type": "error",
     "traceback": [
      "\u001b[1;31m---------------------------------------------------------------------------\u001b[0m",
      "\u001b[1;31mOSError\u001b[0m                                   Traceback (most recent call last)",
      "\u001b[1;32mc:\\Users\\An\\Downloads\\YouTubeRelated\\dnl.ipynb Cell 3\u001b[0m in \u001b[0;36m1\n\u001b[1;32m----> <a href='vscode-notebook-cell:/c%3A/Users/An/Downloads/YouTubeRelated/dnl.ipynb#W3sZmlsZQ%3D%3D?line=0'>1</a>\u001b[0m recognize_speech_from_audio(\u001b[39m\"\u001b[39;49m\u001b[39mtranscripts\u001b[39;49m\u001b[39m\\a\u001b[39;49;00m\u001b[39mudios\u001b[39;49m\u001b[39m\\\u001b[39;49m\u001b[39mc1l75QqRR48 - The Bike Lanes You Can\u001b[39;49m\u001b[39m'\u001b[39;49m\u001b[39mt See - Ontvlechten.wav\u001b[39;49m\u001b[39m\"\u001b[39;49m) \n",
      "\u001b[1;32mc:\\Users\\An\\Downloads\\YouTubeRelated\\dnl.ipynb Cell 3\u001b[0m in \u001b[0;36m1\n\u001b[0;32m      <a href='vscode-notebook-cell:/c%3A/Users/An/Downloads/YouTubeRelated/dnl.ipynb#W3sZmlsZQ%3D%3D?line=7'>8</a>\u001b[0m \u001b[39mdef\u001b[39;00m \u001b[39mrecognize_speech_from_audio\u001b[39m(audio_file):\n\u001b[1;32m---> <a href='vscode-notebook-cell:/c%3A/Users/An/Downloads/YouTubeRelated/dnl.ipynb#W3sZmlsZQ%3D%3D?line=9'>10</a>\u001b[0m     \u001b[39mwith\u001b[39;49;00m sr\u001b[39m.\u001b[39;49mAudioFile(audio_file) \u001b[39mas\u001b[39;49;00m source:\n\u001b[0;32m     <a href='vscode-notebook-cell:/c%3A/Users/An/Downloads/YouTubeRelated/dnl.ipynb#W3sZmlsZQ%3D%3D?line=10'>11</a>\u001b[0m         audio_data \u001b[39m=\u001b[39;49m RECOGNIZER\u001b[39m.\u001b[39;49mrecord(source)\n\u001b[0;32m     <a href='vscode-notebook-cell:/c%3A/Users/An/Downloads/YouTubeRelated/dnl.ipynb#W3sZmlsZQ%3D%3D?line=12'>13</a>\u001b[0m     transcript \u001b[39m=\u001b[39m RECOGNIZER\u001b[39m.\u001b[39mrecognize_sphinx(audio_data)\n",
      "File \u001b[1;32m~\\AppData\\Roaming\\Python\\Python311\\site-packages\\speech_recognition\\__init__.py:241\u001b[0m, in \u001b[0;36mAudioFile.__enter__\u001b[1;34m(self)\u001b[0m\n\u001b[0;32m    238\u001b[0m \u001b[39massert\u001b[39;00m \u001b[39mself\u001b[39m\u001b[39m.\u001b[39mstream \u001b[39mis\u001b[39;00m \u001b[39mNone\u001b[39;00m, \u001b[39m\"\u001b[39m\u001b[39mThis audio source is already inside a context manager\u001b[39m\u001b[39m\"\u001b[39m\n\u001b[0;32m    239\u001b[0m \u001b[39mtry\u001b[39;00m:\n\u001b[0;32m    240\u001b[0m     \u001b[39m# attempt to read the file as WAV\u001b[39;00m\n\u001b[1;32m--> 241\u001b[0m     \u001b[39mself\u001b[39m\u001b[39m.\u001b[39maudio_reader \u001b[39m=\u001b[39m wave\u001b[39m.\u001b[39;49mopen(\u001b[39mself\u001b[39;49m\u001b[39m.\u001b[39;49mfilename_or_fileobject, \u001b[39m\"\u001b[39;49m\u001b[39mrb\u001b[39;49m\u001b[39m\"\u001b[39;49m)\n\u001b[0;32m    242\u001b[0m     \u001b[39mself\u001b[39m\u001b[39m.\u001b[39mlittle_endian \u001b[39m=\u001b[39m \u001b[39mTrue\u001b[39;00m  \u001b[39m# RIFF WAV is a little-endian format (most ``audioop`` operations assume that the frames are stored in little-endian form)\u001b[39;00m\n\u001b[0;32m    243\u001b[0m \u001b[39mexcept\u001b[39;00m (wave\u001b[39m.\u001b[39mError, \u001b[39mEOFError\u001b[39;00m):\n",
      "File \u001b[1;32mc:\\Program Files\\Python311\\Lib\\wave.py:630\u001b[0m, in \u001b[0;36mopen\u001b[1;34m(f, mode)\u001b[0m\n\u001b[0;32m    628\u001b[0m         mode \u001b[39m=\u001b[39m \u001b[39m'\u001b[39m\u001b[39mrb\u001b[39m\u001b[39m'\u001b[39m\n\u001b[0;32m    629\u001b[0m \u001b[39mif\u001b[39;00m mode \u001b[39min\u001b[39;00m (\u001b[39m'\u001b[39m\u001b[39mr\u001b[39m\u001b[39m'\u001b[39m, \u001b[39m'\u001b[39m\u001b[39mrb\u001b[39m\u001b[39m'\u001b[39m):\n\u001b[1;32m--> 630\u001b[0m     \u001b[39mreturn\u001b[39;00m Wave_read(f)\n\u001b[0;32m    631\u001b[0m \u001b[39melif\u001b[39;00m mode \u001b[39min\u001b[39;00m (\u001b[39m'\u001b[39m\u001b[39mw\u001b[39m\u001b[39m'\u001b[39m, \u001b[39m'\u001b[39m\u001b[39mwb\u001b[39m\u001b[39m'\u001b[39m):\n\u001b[0;32m    632\u001b[0m     \u001b[39mreturn\u001b[39;00m Wave_write(f)\n",
      "File \u001b[1;32mc:\\Program Files\\Python311\\Lib\\wave.py:280\u001b[0m, in \u001b[0;36mWave_read.__init__\u001b[1;34m(self, f)\u001b[0m\n\u001b[0;32m    278\u001b[0m \u001b[39mself\u001b[39m\u001b[39m.\u001b[39m_i_opened_the_file \u001b[39m=\u001b[39m \u001b[39mNone\u001b[39;00m\n\u001b[0;32m    279\u001b[0m \u001b[39mif\u001b[39;00m \u001b[39misinstance\u001b[39m(f, \u001b[39mstr\u001b[39m):\n\u001b[1;32m--> 280\u001b[0m     f \u001b[39m=\u001b[39m builtins\u001b[39m.\u001b[39;49mopen(f, \u001b[39m'\u001b[39;49m\u001b[39mrb\u001b[39;49m\u001b[39m'\u001b[39;49m)\n\u001b[0;32m    281\u001b[0m     \u001b[39mself\u001b[39m\u001b[39m.\u001b[39m_i_opened_the_file \u001b[39m=\u001b[39m f\n\u001b[0;32m    282\u001b[0m \u001b[39m# else, assume it is an open file object already\u001b[39;00m\n",
      "\u001b[1;31mOSError\u001b[0m: [Errno 22] Invalid argument: \"transcripts\\x07udios\\\\c1l75QqRR48 - The Bike Lanes You Can't See - Ontvlechten.wav\""
     ]
    }
   ],
   "source": [
    "recognize_speech_from_audio(\"transcripts/audios/c1l75QqRR48 - The Bike Lanes You Can't See - Ontvlechten.wav\") "
   ]
  }
 ],
 "metadata": {
  "kernelspec": {
   "display_name": "Python 3",
   "language": "python",
   "name": "python3"
  },
  "language_info": {
   "codemirror_mode": {
    "name": "ipython",
    "version": 3
   },
   "file_extension": ".py",
   "mimetype": "text/x-python",
   "name": "python",
   "nbconvert_exporter": "python",
   "pygments_lexer": "ipython3",
   "version": "3.11.5"
  },
  "orig_nbformat": 4
 },
 "nbformat": 4,
 "nbformat_minor": 2
}
